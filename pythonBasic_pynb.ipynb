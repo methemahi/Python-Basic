{
  "nbformat": 4,
  "nbformat_minor": 0,
  "metadata": {
    "colab": {
      "provenance": []
    },
    "kernelspec": {
      "name": "python3",
      "display_name": "Python 3"
    },
    "language_info": {
      "name": "python"
    }
  },
  "cells": [
    {
      "cell_type": "code",
      "execution_count": 1,
      "metadata": {
        "id": "P1EntATFEwdj"
      },
      "outputs": [],
      "source": []
    },
    {
      "cell_type": "markdown",
      "source": [
        "# Python Basic"
      ],
      "metadata": {
        "id": "QAl06DnhGsjG"
      }
    },
    {
      "cell_type": "markdown",
      "source": [
        "1. What is Python, and why is it popular?\n",
        "\n",
        "Python is a powerful  programming language.It's popular because\n",
        "It is  easy to read.\n",
        "It is free and open source.\n",
        "It is most versatile programming language like desktop application, web application\n",
        "Image processing, Machine learning, data analysis and  game development\n",
        "\n",
        "2. What is an interpreter in Python?\n",
        "\n",
        "Python Interpreter reads and runs your Python code line by line.\n",
        "\n",
        "3. What are predefined keywords in Python?\n",
        "\n",
        "In Python Keyword are reserved words which is stored in python and  hold special meaning and special purpose.\n",
        "\n",
        "4. Can keywords be used as variable names?\n",
        "\n",
        "No Keywords  are not used as variables because keywords are predefined in python.As we use any keyword as a variable and run the program, the python interpreter shows an error.\n",
        "\n",
        "5.What is mutability in Python?\n",
        "\n",
        "In python Mutability means the user can change in a defined variable.\n",
        "list is mutabile and Tupple is immuatable.\n",
        "\n",
        "6. Why are lists mutable, but tuples are immutable?\n",
        " Lists are mutable because lists contain dynamic data and tuples are  immutable because tuples contain fixed data.\n",
        "\n",
        " 7. What is the difference between “ ==”  and “is” operation in python?\n",
        "\n",
        " 8. What are logical operators?\n",
        "\tPython Logical operator : AND ,OR ,NOT\n",
        "\n",
        "AND Operator: AND operator true when both Condition are true\n",
        "    True & True - True\n",
        "\t\tTrue & False -False\n",
        "\t\tFalse & True - False\n",
        "\t\tFalse & False -False\n",
        "\n",
        "OR Operator: OR operator true when ONLY Condition can true\n",
        "    True & True - – True\n",
        "\t\tTrue & False - – True\n",
        "\t\tFalse & True - – True\n",
        "\t\tFalse & False - – False\n",
        "\n",
        "NOT Operator:  \n",
        "    Not False - True\n",
        "\t\tNot True- False\n",
        "\n",
        "9. What is type casting in python?\n",
        "\n",
        "The process of changing the data type of value or object is type casting.\n",
        "\t-String to Int - a = “2”---------int(a)----a = 2\n",
        "\t-int to float - a = 2---------float(a)---- a = 2.0\n",
        "\tString to float - a = “2”---------float(a)-----a = 2.0\n",
        "\tint to String - a = 2---------str(a)-------- a = “2”\n",
        "\n",
        "10. Implicit vs Explicit type casting in Python?\n",
        "Implicit : Python automatically converts one data type  to another data type without user intervention\n",
        "Ex. a=10\n",
        "\t  b=3.5\n",
        "\tresult = a+b\n",
        "\tPrint(result)\n",
        "\t13.5\n",
        ".\n",
        "Explicit: Python not converts one data type  to another data type, manually converts one data type  to another data type.\n",
        "Ex. x=100\n",
        "     y=inv(x)\n",
        "11. What is the  Purpose of a conditional statement in Python?\n",
        "Conditional statement, when we want any program run only when condition match\n",
        "ex . if there is rain take an umbrella otherwise don't take it.\n",
        "\n",
        "types of conditional statement:\n",
        "If\n",
        "If- else\n",
        "If- elif\n",
        "Nested if\n",
        "\n",
        "12. How does the elif statement work?\n",
        "elif statements apply for  multiple if conditions\n",
        "Ex. a=10\n",
        "  If a.100:\n",
        "\t\tPrint(“Number is greater than 100”)\n",
        "elif a<100:\n",
        "    Print(Number is Smaller than 100”)\n",
        "else:\n",
        "    Print(“The Number is 100”)\n",
        "\n",
        "13. What is the difference between while loop and for loop in python?\n",
        "While Loop : while repeating a block of code as long as a condition is true.\n",
        "\tEx. count = 1\n",
        "\t       While count<=5:\n",
        "\t\t\tPrint(count)\n",
        "\t\t\tcount+=1\n",
        "\n",
        "\t\tResult–\t1\n",
        "\t\t\t\t2\n",
        "\t\t\t\t3\n",
        "\t\t\t\t4\n",
        "\t\t\t\t5\n",
        "For Loop: for loop is used for fix number of times.\n",
        "\n",
        "\n",
        "\n",
        "\n",
        "\n"
      ],
      "metadata": {
        "id": "HWxtAMWdH6fj"
      }
    },
    {
      "cell_type": "markdown",
      "source": [
        "# Python Practical Questions"
      ],
      "metadata": {
        "id": "xr9aDCzvM4EX"
      }
    },
    {
      "cell_type": "code",
      "source": [
        "# Write a program to print “hello world”\n",
        "print(\"hello world\")"
      ],
      "metadata": {
        "colab": {
          "base_uri": "https://localhost:8080/"
        },
        "id": "C6NPuU5OJSy3",
        "outputId": "8fd7f23c-ab5d-446d-de01-20293651a1d9"
      },
      "execution_count": 4,
      "outputs": [
        {
          "output_type": "stream",
          "name": "stdout",
          "text": [
            "hello world\n"
          ]
        }
      ]
    },
    {
      "cell_type": "code",
      "source": [
        "#2. Write a program to display your name and age.\n",
        "\n",
        "Name=(\"Manmohan Singh Batham\")\n",
        "Age= 35\n",
        "print(f\"Hello sir My name is {Name} and my age is {Age} years\")\n",
        "\n"
      ],
      "metadata": {
        "colab": {
          "base_uri": "https://localhost:8080/"
        },
        "id": "Ge6wZKNnNfDi",
        "outputId": "5412e102-198c-4292-c6b9-80d12ada49aa"
      },
      "execution_count": 9,
      "outputs": [
        {
          "output_type": "stream",
          "name": "stdout",
          "text": [
            "Hello sir My name is Manmohan Singh Batham and my age is 35 years\n"
          ]
        }
      ]
    },
    {
      "cell_type": "code",
      "source": [
        "#3.Write a program to print all the predefined keyword  in python using the keyword library.\n",
        "import keyword; print(keyword.kwlist)\n"
      ],
      "metadata": {
        "colab": {
          "base_uri": "https://localhost:8080/"
        },
        "id": "zh4n5gciOJ3m",
        "outputId": "7318bc8c-3f57-4f9c-cc29-5e1246d3de4e"
      },
      "execution_count": 10,
      "outputs": [
        {
          "output_type": "stream",
          "name": "stdout",
          "text": [
            "['False', 'None', 'True', 'and', 'as', 'assert', 'async', 'await', 'break', 'class', 'continue', 'def', 'del', 'elif', 'else', 'except', 'finally', 'for', 'from', 'global', 'if', 'import', 'in', 'is', 'lambda', 'nonlocal', 'not', 'or', 'pass', 'raise', 'return', 'try', 'while', 'with', 'yield']\n"
          ]
        }
      ]
    },
    {
      "cell_type": "code",
      "source": [
        "# 4.Write a program that checks if a given word is a python keyword.\n",
        "\n",
        "import keyword\n",
        "word = input(\"Enter a Word:\")\n",
        "if keyword.iskeyword(word):\n",
        "  print(word, \"given word is a python keyword.\")\n",
        "else:\n",
        "  print(word, \"given word is not a python keyword.\")\n"
      ],
      "metadata": {
        "colab": {
          "base_uri": "https://localhost:8080/"
        },
        "id": "w2SVD1QjOUYA",
        "outputId": "187433e0-f687-4d06-e85d-f25f6a7fffcc"
      },
      "execution_count": 11,
      "outputs": [
        {
          "output_type": "stream",
          "name": "stdout",
          "text": [
            "Enter a Word:manmohan\n",
            "manmohan given word is not a python keyword.\n"
          ]
        }
      ]
    },
    {
      "cell_type": "code",
      "source": [
        "#5. Create a list and tuple in python and demonstrate how attempting to change an element works differently to each other.\n",
        "\n",
        "list = [10, 20, 30]\n",
        "tuple = (10, 20, 30)\n",
        "\n",
        "# Changing an element in the list\n",
        "print(\" Original list:\", list)\n",
        "list[1] = 99\n",
        "print(\"change  list:\", list)\n",
        "\n",
        "# changing an element in the tuple\n",
        "print(\"Original tuple:\", tuple)\n",
        "my_tuple[1] = 99\n"
      ],
      "metadata": {
        "colab": {
          "base_uri": "https://localhost:8080/",
          "height": 228
        },
        "id": "qv1q0rVcO3EI",
        "outputId": "f03ba9ef-cd52-49a5-e9f3-43b08b7c093c"
      },
      "execution_count": 12,
      "outputs": [
        {
          "output_type": "stream",
          "name": "stdout",
          "text": [
            " Original list: [10, 20, 30]\n",
            "change  list: [10, 99, 30]\n",
            "Original tuple: (10, 20, 30)\n"
          ]
        },
        {
          "output_type": "error",
          "ename": "NameError",
          "evalue": "name 'my_tuple' is not defined",
          "traceback": [
            "\u001b[0;31m---------------------------------------------------------------------------\u001b[0m",
            "\u001b[0;31mNameError\u001b[0m                                 Traceback (most recent call last)",
            "\u001b[0;32m/tmp/ipython-input-12-1661380833.py\u001b[0m in \u001b[0;36m<cell line: 0>\u001b[0;34m()\u001b[0m\n\u001b[1;32m     11\u001b[0m \u001b[0;31m# changing an element in the tuple\u001b[0m\u001b[0;34m\u001b[0m\u001b[0;34m\u001b[0m\u001b[0m\n\u001b[1;32m     12\u001b[0m \u001b[0mprint\u001b[0m\u001b[0;34m(\u001b[0m\u001b[0;34m\"Original tuple:\"\u001b[0m\u001b[0;34m,\u001b[0m \u001b[0mtuple\u001b[0m\u001b[0;34m)\u001b[0m\u001b[0;34m\u001b[0m\u001b[0;34m\u001b[0m\u001b[0m\n\u001b[0;32m---> 13\u001b[0;31m \u001b[0mmy_tuple\u001b[0m\u001b[0;34m[\u001b[0m\u001b[0;36m1\u001b[0m\u001b[0;34m]\u001b[0m \u001b[0;34m=\u001b[0m \u001b[0;36m99\u001b[0m\u001b[0;34m\u001b[0m\u001b[0;34m\u001b[0m\u001b[0m\n\u001b[0m",
            "\u001b[0;31mNameError\u001b[0m: name 'my_tuple' is not defined"
          ]
        }
      ]
    },
    {
      "cell_type": "code",
      "source": [
        " # 7.Write a program that performs basic arithmetic operations on the two user input numbers.\n",
        "\n",
        "num1 = float(input(\"Enter the first number: \"))\n",
        "num2 = float(input(\"Enter the second number: \"))\n",
        "\n",
        "print(\"Addition:\", num1 + num2)\n",
        "print(\"Subtraction:\", num1 - num2)\n",
        "print(\"Multiplication:\", num1 * num2)\n",
        "print(\"Division:\", num1 / num2)\n"
      ],
      "metadata": {
        "colab": {
          "base_uri": "https://localhost:8080/"
        },
        "id": "0krCEqsPPQSb",
        "outputId": "ab02d390-d1f0-4166-a467-8c457ec98615"
      },
      "execution_count": 14,
      "outputs": [
        {
          "output_type": "stream",
          "name": "stdout",
          "text": [
            "Enter the first number: 12\n",
            "Enter the second number: 7\n",
            "Addition: 19.0\n",
            "Subtraction: 5.0\n",
            "Multiplication: 84.0\n",
            "Division: 1.7142857142857142\n"
          ]
        }
      ]
    },
    {
      "cell_type": "code",
      "source": [
        " # 10.Write code to demonstrate type casting with list elements\n",
        "\n",
        "# Convert  int to str\n",
        "list = [10,20,30]\n",
        "list = [str(x) for x in list]\n",
        "print(\"List of String:\", list)\n",
        "\n",
        "# Convert str  to float\n",
        "list = ['10', '20', '30']\n",
        "list = [float(x) for x in list]\n",
        "print(\"List of float:\", list)\n",
        "\n",
        "# Convert  float to int\n",
        "list = [10.0, 20.0, 30.0]\n",
        "list = [int(x) for x in list]\n",
        "print(\"List of int:\", list)\n"
      ],
      "metadata": {
        "colab": {
          "base_uri": "https://localhost:8080/"
        },
        "id": "gVJYyj-BPwZX",
        "outputId": "0a23337f-05a9-46fe-a52c-80ece788c405"
      },
      "execution_count": 15,
      "outputs": [
        {
          "output_type": "stream",
          "name": "stdout",
          "text": [
            "List of String: ['10', '20', '30']\n",
            "List of float: [10.0, 20.0, 30.0]\n",
            "List of int: [10, 20, 30]\n"
          ]
        }
      ]
    },
    {
      "cell_type": "code",
      "source": [
        " #11.Write a program that checks if a number is positive, negative or zero.\n",
        "num = float(input(\"Enter a number:\"))\n",
        "if num > 0:\n",
        "    \t\tprint(\"The number is Positive.\")\n",
        "elif num < 0:\n",
        "   \t\t print(\"The number is Negative.\")\n",
        "else:\n",
        "   \t \tprint(\"The number is Zero.\")\n"
      ],
      "metadata": {
        "colab": {
          "base_uri": "https://localhost:8080/"
        },
        "id": "79UCzCUdP_Qr",
        "outputId": "3129a912-35c6-4f1c-9431-51ed548fa224"
      },
      "execution_count": 16,
      "outputs": [
        {
          "output_type": "stream",
          "name": "stdout",
          "text": [
            "Enter a number:109\n",
            "The number is Positive.\n"
          ]
        }
      ]
    },
    {
      "cell_type": "code",
      "source": [
        " #12. Write a “for” loop to print numbers from 1 to 10.\n",
        "for i in range(1, 11):\n",
        "    print(i)\n"
      ],
      "metadata": {
        "colab": {
          "base_uri": "https://localhost:8080/"
        },
        "id": "uP1Km6WrQN1L",
        "outputId": "6ed4ef09-ba02-4d4a-92f9-7b639d4bb95a"
      },
      "execution_count": 17,
      "outputs": [
        {
          "output_type": "stream",
          "name": "stdout",
          "text": [
            "1\n",
            "2\n",
            "3\n",
            "4\n",
            "5\n",
            "6\n",
            "7\n",
            "8\n",
            "9\n",
            "10\n"
          ]
        }
      ]
    },
    {
      "cell_type": "code",
      "source": [
        "#13. Write a python program to find the sum of all even numbers between 1 and 50.\n",
        "sum = 0\n",
        "for number in range(1, 51):\n",
        "    if number % 2 == 0:\n",
        "        sum = sum + number\n",
        "print(\"sum of all even numbers between 1 and 50:\", sum)"
      ],
      "metadata": {
        "colab": {
          "base_uri": "https://localhost:8080/"
        },
        "id": "BI8x4AsEQYF3",
        "outputId": "0d947402-827e-4514-9736-497e62df9c3b"
      },
      "execution_count": 18,
      "outputs": [
        {
          "output_type": "stream",
          "name": "stdout",
          "text": [
            "sum of all even numbers between 1 and 50: 650\n"
          ]
        }
      ]
    },
    {
      "cell_type": "code",
      "source": [
        "#14.  Write a program to reverse a string using a while loop.\n",
        "string = input(\"Enter a string: \")\n",
        "reversed_string = \"\"\n",
        "index = len(string) - 1\n",
        "while index >= 0:\n",
        "  reversed_string = reversed_string + string[index]\n",
        "  index = index - 1\n",
        "print(\"Reverse string hai:\", reversed_string)"
      ],
      "metadata": {
        "colab": {
          "base_uri": "https://localhost:8080/"
        },
        "id": "U2GYJ1NIQkxJ",
        "outputId": "aa32e9ca-8d6f-4bd9-d432-023941b3dc2f"
      },
      "execution_count": 19,
      "outputs": [
        {
          "output_type": "stream",
          "name": "stdout",
          "text": [
            "Enter a string: Manmohan\n",
            "Reverse string hai: nahomnaM\n"
          ]
        }
      ]
    },
    {
      "cell_type": "code",
      "source": [
        "#15. Write a python program to calculate the victorial of a number provided by the user using a while loop.\n",
        "num = int(input(\"Enter a Numner: \"))\n",
        "factorial = 1\n",
        "i = 1\n",
        "while i <= num:\n",
        "  factorial = factorial * i\n",
        "  i = i + 1\n",
        "print(\"Factorial of\", num, \"is:\", factorial)\n"
      ],
      "metadata": {
        "colab": {
          "base_uri": "https://localhost:8080/"
        },
        "id": "KyDY-ytAQ5-0",
        "outputId": "7e519f69-b304-4bb1-d8da-57e2edab3714"
      },
      "execution_count": 22,
      "outputs": [
        {
          "output_type": "stream",
          "name": "stdout",
          "text": [
            "Enter a Numner: 16\n",
            "Factorial of 16 is: 20922789888000\n"
          ]
        }
      ]
    }
  ]
}